{
 "cells": [
  {
   "cell_type": "code",
   "execution_count": null,
   "id": "805ee896-8209-4e72-a79f-3054c3f39673",
   "metadata": {},
   "outputs": [],
   "source": [
    "Q1. Write a python program to extract the video URL of the first five videos."
   ]
  },
  {
   "cell_type": "code",
   "execution_count": null,
   "id": "651b6ffc-54bb-4bcb-9e4e-803495160609",
   "metadata": {},
   "outputs": [],
   "source": [
    "# Import Required Module\n",
    "import requests\n",
    "from bs4 import BeautifulSoup\n",
    "\n",
    "# Web URL\n",
    "Web_url = \"https://www.geeksforgeeks.org/make-notepad-using-tkinter/\"\n",
    "\n",
    "# Get URL Content\n",
    "r = requests.get(Web_url)\n",
    "\n",
    "# Parse HTML Code\n",
    "soup = BeautifulSoup(r.content, 'html.parser')\n",
    "\n",
    "# List of all video tag\n",
    "video_tags = soup.findAll('video')\n",
    "print(\"Total \", len(video_tags), \"videos found\")\n",
    "\n",
    "if len(video_tags) != 0:\n",
    "\tfor video_tag in video_tags:\n",
    "\t\tvideo_url = video_tag.find(\"a\")['href']\n",
    "\t\tprint(video_url)\n",
    "else:\n",
    "\tprint(\"no videos found\")\n"
   ]
  },
  {
   "cell_type": "code",
   "execution_count": null,
   "id": "2e69c04b-cf5b-411c-b94c-eeac920fe5c1",
   "metadata": {},
   "outputs": [],
   "source": [
    "Q2. Write a python program to extract the URL of the video thumbnails of the first five videos."
   ]
  },
  {
   "cell_type": "code",
   "execution_count": null,
   "id": "75216d9f-3fa7-4481-aa7d-e2df407a422b",
   "metadata": {},
   "outputs": [],
   "source": [
    "# Import Required Module\n",
    "import requests\n",
    "from bs4 import BeautifulSoup\n",
    "\n",
    "# Web URL\n",
    "Web_url = \"https://www.geeksforgeeks.org/make-notepad-using-tkinter/\"\n",
    "\n",
    "# Get URL Content\n",
    "r = requests.get(Web_url)\n",
    "\n",
    "# Parse HTML Code\n",
    "soup = BeautifulSoup(r.content, 'html.parser')\n",
    "\n",
    "# List of all video tag\n",
    "video_tags = soup.findAll('video')\n",
    "print(\"Total \", len(video_tags), \"videos found\")\n",
    "\n",
    "if len(video_tags) != 0:\n",
    "\tfor video_tag in video_tags:\n",
    "\t\tvideo_url = video_tag.find(\"a\")['href']\n",
    "\t\tprint(video_url)\n",
    "else:\n",
    "\tprint(\"no videos found\")\n"
   ]
  },
  {
   "cell_type": "code",
   "execution_count": null,
   "id": "c5e0b225-a273-47b3-8823-3c518ba7fd90",
   "metadata": {},
   "outputs": [],
   "source": [
    "Q3. Write a python program to extract the title of the first five videos."
   ]
  },
  {
   "cell_type": "code",
   "execution_count": null,
   "id": "ad37628f-f296-4815-b792-63dea3a8ca85",
   "metadata": {},
   "outputs": [],
   "source": [
    "# importing the modules\n",
    "import requests\n",
    "from bs4 import BeautifulSoup\n",
    "\n",
    "# target url\n",
    "url = 'https://www.geeksforgeeks.org/'\n",
    "\n",
    "# making requests instance\n",
    "reqs = requests.get(url)\n",
    "\n",
    "# using the BeautifulSoup module\n",
    "soup = BeautifulSoup(reqs.text, 'html.parser')\n",
    "\n",
    "# displaying the title\n",
    "print(\"Title of the website is : \")\n",
    "for title in soup.find_all('title'):\n",
    "\tprint(title.get_text())\n"
   ]
  },
  {
   "cell_type": "code",
   "execution_count": null,
   "id": "67f3043a-964f-40b1-a6b2-4b4a24afccc6",
   "metadata": {},
   "outputs": [],
   "source": [
    "Q4. Write a python program to extract the number of views of the first five videos."
   ]
  },
  {
   "cell_type": "code",
   "execution_count": null,
   "id": "7f22af50-4c94-4ed3-bc76-92c2f8e288e6",
   "metadata": {},
   "outputs": [],
   "source": [
    "# Import Required Module\n",
    "import requests\n",
    "from bs4 import BeautifulSoup\n",
    "\n",
    "# Web URL\n",
    "Web_url = \"https://www.geeksforgeeks.org/make-notepad-using-tkinter/\"\n",
    "\n",
    "# Get URL Content\n",
    "r = requests.get(Web_url)\n",
    "\n",
    "# Parse HTML Code\n",
    "soup = BeautifulSoup(r.content, 'html.parser')\n",
    "\n",
    "# List of all video tag\n",
    "video_tags = soup.findAll('video')\n",
    "print(\"Total \", len(video_tags), \"videos found\")\n",
    "\n",
    "if len(video_tags) != 0:\n",
    "\tfor video_tag in video_tags:\n",
    "\t\tvideo_url = video_tag.find(\"a\")['href']\n",
    "\t\tprint(video_url)\n",
    "else:\n",
    "\tprint(\"no videos found\")\n"
   ]
  },
  {
   "cell_type": "code",
   "execution_count": null,
   "id": "c531c333-cedd-4702-a56f-505df30298cc",
   "metadata": {},
   "outputs": [],
   "source": [
    "Q5. Write a python program to extract the time of posting of video for the first five videos."
   ]
  },
  {
   "cell_type": "code",
   "execution_count": null,
   "id": "031982d3-081c-40e6-95e2-282ac58e3c1e",
   "metadata": {},
   "outputs": [],
   "source": [
    "# Import Required Module\n",
    "import requests\n",
    "from bs4 import BeautifulSoup\n",
    "\n",
    "# Web URL\n",
    "Web_url = \"https://www.geeksforgeeks.org/make-notepad-using-tkinter/\"\n",
    "\n",
    "# Get URL Content\n",
    "r = requests.get(Web_url)\n",
    "\n",
    "# Parse HTML Code\n",
    "soup = BeautifulSoup(r.content, 'html.parser')\n",
    "\n",
    "# List of all video tag\n",
    "video_tags = soup.findAll('video')\n",
    "print(\"Total \", len(video_tags), \"videos found\")\n",
    "\n",
    "if len(video_tags) != 0:\n",
    "\tfor video_tag in video_tags:\n",
    "\t\tvideo_url = video_tag.find(\"a\")['href']\n",
    "\t\tprint(video_url)\n",
    "else:\n",
    "\tprint(\"no videos found\")\n"
   ]
  }
 ],
 "metadata": {
  "kernelspec": {
   "display_name": "Python 3 (ipykernel)",
   "language": "python",
   "name": "python3"
  },
  "language_info": {
   "codemirror_mode": {
    "name": "ipython",
    "version": 3
   },
   "file_extension": ".py",
   "mimetype": "text/x-python",
   "name": "python",
   "nbconvert_exporter": "python",
   "pygments_lexer": "ipython3",
   "version": "3.10.8"
  }
 },
 "nbformat": 4,
 "nbformat_minor": 5
}
